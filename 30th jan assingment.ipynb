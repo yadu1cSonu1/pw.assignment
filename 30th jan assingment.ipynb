{
 "cells": [
  {
   "cell_type": "code",
   "execution_count": 6,
   "id": "6a9b62b3",
   "metadata": {},
   "outputs": [
    {
     "name": "stdout",
     "output_type": "stream",
     "text": [
      "enter your marks=43\n",
      "Grade D\n"
     ]
    }
   ],
   "source": [
    "# QUESTION 1.\n",
    "marks=int(input(\"enter your marks=\"))\n",
    "\n",
    "#checking condition on marks and printing the grades according to marks\n",
    "if(marks>90):\n",
    "    print(\"Grade A\")\n",
    "elif(marks>80 and marks<=90):\n",
    "    print(\"Grade B\")\n",
    "elif(marks>=60 and marks<=80):\n",
    "    print(\"Grade C\")\n",
    "else:\n",
    "    print(\"Grade D\")"
   ]
  },
  {
   "cell_type": "code",
   "execution_count": 19,
   "id": "e362103d",
   "metadata": {},
   "outputs": [
    {
     "name": "stdout",
     "output_type": "stream",
     "text": [
      "Enter Cost Price Of Your Bike=40000\n",
      "5% Road Tax You Need To Pay= 2000.0\n"
     ]
    }
   ],
   "source": [
    "#QUESTION 2.\n",
    "cost_price=int(input(\"Enter Cost Price Of Your Bike=\"))\n",
    "\n",
    "'''making condition for printing the road tax\n",
    "to be paid according to the cost prie of bike'''\n",
    "if(cost_price>100000):\n",
    "    print(\"15% Road Tax You Need To Pay=\",15*cost_price/100)\n",
    "elif(cost_price>50000 and cost_price<=100000):\n",
    "    print(\"10% Road Tax You Need To Pay=\",10*cost_price/100)\n",
    "elif(cost_price<=50000):\n",
    "    print(\"5% Road Tax You Need To Pay=\",5*cost_price/100)"
   ]
  },
  {
   "cell_type": "code",
   "execution_count": null,
   "id": "930cc991",
   "metadata": {},
   "outputs": [],
   "source": [
    "#QUESTION 3.\n",
    "city=input(\"Enter Your City Name(Delhi/Agra/Jaipur)=\")\n",
    "\n",
    "if(city==\"Delhi\"):\n",
    "    print(\"Red Fort\")\n",
    "elif(city==\"Agra\"):\n",
    "    print(\"Taj Mahal\")\n",
    "elif(city==\"Jaipur\"):\n",
    "    print(\"Jai Mahal\")"
   ]
  },
  {
   "cell_type": "code",
   "execution_count": 30,
   "id": "9fbfc0a8",
   "metadata": {},
   "outputs": [
    {
     "name": "stdout",
     "output_type": "stream",
     "text": [
      "3 Number Of Time a Number Can Be Dived By 3 Less Than or equal to 10\n"
     ]
    }
   ],
   "source": [
    "#QUESTION 4\n",
    "count=0         #initalize count var with 0 for storing no of divsion by 3\n",
    "\n",
    "for i in range(1,11):\n",
    "    if(i%3==0):\n",
    "        count+=1\n",
    "print(count,\"Number Of Time a Number Can Be Dived By 3 Less Than or equal to 10\")"
   ]
  },
  {
   "cell_type": "code",
   "execution_count": null,
   "id": "341acd36",
   "metadata": {},
   "outputs": [],
   "source": [
    "#QUESTION 5\n",
    "'''=While loop is used to execute a block of statement reoeatedly until a given a \n",
    "condition is satisfyed and when the condition becomes false the line immedeitaly\n",
    "after the loop in program is executed.;'''\n",
    "\n",
    "# example\n",
    "n = int(input('Enter number of rows : '))\n",
    " \n",
    "i = 1\n",
    "while i <= n :\n",
    "    j = 1\n",
    "    while j <= i:\n",
    "        print(\"*\", end = \" \")\n",
    "        j += 1\n",
    "    print()\n",
    "    i += 1\n"
   ]
  },
  {
   "cell_type": "code",
   "execution_count": null,
   "id": "ea0bdb03",
   "metadata": {},
   "outputs": [],
   "source": [
    "#question 6\n",
    "i = 1\n",
    "while i <= n :\n",
    "    j = n\n",
    "    while j >= i:\n",
    "        print(\"*\", end = \" \")\n",
    "        j -= 1\n",
    "    print()\n",
    "    i += 1"
   ]
  },
  {
   "cell_type": "code",
   "execution_count": null,
   "id": "8b095ca9",
   "metadata": {},
   "outputs": [],
   "source": [
    "#question 6\n",
    "n = int(input('Enter number of rows : '))\n",
    " \n",
    "k = 1\n",
    "i = 1\n",
    "while i <= n :\n",
    "    j = 1\n",
    "    while j <= i:\n",
    "        print(\"{:3d}\".format(k), end = \" \")\n",
    "        j += 1\n",
    "        k += 1\n",
    "    print()"
   ]
  },
  {
   "cell_type": "code",
   "execution_count": null,
   "id": "a9c8d6dc",
   "metadata": {},
   "outputs": [],
   "source": [
    "#question 6\n",
    "n = int(input('Enter number of rows : '))\n",
    " \n",
    "i = 1\n",
    "while i <= n :\n",
    "    j = 1\n",
    "    while j <= i:\n",
    "        print(\"*\", end = \" \")\n",
    "        j += 1\n",
    "    print()\n",
    "    i += 1"
   ]
  },
  {
   "cell_type": "code",
   "execution_count": 1,
   "id": "226a11c1",
   "metadata": {},
   "outputs": [
    {
     "name": "stdout",
     "output_type": "stream",
     "text": [
      "10 \n",
      "\n",
      "9 \n",
      "\n",
      "8 \n",
      "\n",
      "7 \n",
      "\n",
      "6 \n",
      "\n",
      "5 \n",
      "\n",
      "4 \n",
      "\n",
      "3 \n",
      "\n",
      "2 \n",
      "\n",
      "1 \n",
      "\n"
     ]
    }
   ],
   "source": [
    "#QUESTION 7\n",
    "n=10\n",
    "while(n>=1):\n",
    "    print(n,\"\\n\")\n",
    "    n=n-1"
   ]
  },
  {
   "cell_type": "code",
   "execution_count": null,
   "id": "56d42273",
   "metadata": {},
   "outputs": [],
   "source": [
    "# QUESTION 8\n",
    "\n",
    "n=10\n",
    "while(n>=1):\n",
    "    print(n,\"\\n\")\n",
    "    n=n-1"
   ]
  }
 ],
 "metadata": {
  "kernelspec": {
   "display_name": "Python 3 (ipykernel)",
   "language": "python",
   "name": "python3"
  },
  "language_info": {
   "codemirror_mode": {
    "name": "ipython",
    "version": 3
   },
   "file_extension": ".py",
   "mimetype": "text/x-python",
   "name": "python",
   "nbconvert_exporter": "python",
   "pygments_lexer": "ipython3",
   "version": "3.10.6 (tags/v3.10.6:9c7b4bd, Aug  1 2022, 21:53:49) [MSC v.1932 64 bit (AMD64)]"
  },
  "vscode": {
   "interpreter": {
    "hash": "a9cff5a362bc38ef45d817ae74b1af54d6a076e3d773891282bce078b815ba34"
   }
  }
 },
 "nbformat": 4,
 "nbformat_minor": 5
}
