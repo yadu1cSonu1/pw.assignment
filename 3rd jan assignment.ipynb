{
 "cells": [
  {
   "cell_type": "code",
   "execution_count": null,
   "id": "74051c02",
   "metadata": {},
   "outputs": [],
   "source": [
    "#Q1\n",
    "\"\"\"Q1 WHICH KEYWORD IS USED TO CREAT A FUNCTION? CREAT A FUNCTION TO RETURN A LIST\n",
    "OF ODD NUMBERS IN RANGE OF 1 TO 25\"\"\""
   ]
  },
  {
   "cell_type": "code",
   "execution_count": 5,
   "id": "dbcaea05",
   "metadata": {},
   "outputs": [
    {
     "name": "stdout",
     "output_type": "stream",
     "text": [
      "List of odd numbers are shown below\n"
     ]
    },
    {
     "data": {
      "text/plain": [
       "[1, 3, 5, 7, 9, 11, 13, 15, 17, 19, 21, 23]"
      ]
     },
     "execution_count": 5,
     "metadata": {},
     "output_type": "execute_result"
    }
   ],
   "source": [
    "# ANS:- Def keyword is used to creat a function in python .\n",
    "def odd_number(n):\n",
    "    print(\"List of odd numbers are shown below\")\n",
    "    l=[]\n",
    "    for i in n:\n",
    "        if i%2!=0:\n",
    "            l.append(i)\n",
    "    return l\n",
    "odd_number(range(1,25))\n",
    "\n",
    "            \n",
    "    \n",
    "    "
   ]
  },
  {
   "cell_type": "code",
   "execution_count": null,
   "id": "a631b770",
   "metadata": {},
   "outputs": [],
   "source": [
    "#Q2.\n",
    "\"\"\"Why *ARGS AND **KWARGS IS USED IN SOME FUNCTION ? CREAT A FUNCTION EACH FOR\n",
    "*ARGS AND **KWARGS TO DEMONSTRATE THEIR USE\"\"\""
   ]
  },
  {
   "cell_type": "code",
   "execution_count": 18,
   "id": "049023bb",
   "metadata": {},
   "outputs": [
    {
     "name": "stdout",
     "output_type": "stream",
     "text": [
      "argument are passed in (*) = (1, 2, 3, 4, 5, 6)\n",
      "\n",
      "\n",
      "argument are passed in (**) {'name': ['raj', 'sonu', 'saurab'], 'course': 'bca', 'goal': 'datascientist'}\n"
     ]
    }
   ],
   "source": [
    "#*args:- Through (*) keyword we can pass n number of argument in a function. It stores the data in tuple format\n",
    "\n",
    "#**kwars:- Through (**) keyword we can pass arguments in key value format . it takes arguments in also key value format like dictonary\n",
    "\n",
    "def ex1(*ex2):\n",
    "    print(\"argument are passed in (*) =\",ex2)\n",
    "ex1(1,2,3,4,5,6)\n",
    "print()\n",
    "print()\n",
    "# example of (**kwargs)\n",
    "def ex3(**dictonary):\n",
    "    print(\"argument are passed in (**)\",dictonary)\n",
    "ex3(name=[\"raj\",\"sonu\",\"saurab\"],course=\"bca\",goal=\"datascientist\")\n"
   ]
  },
  {
   "cell_type": "code",
   "execution_count": 1,
   "id": "29a7d40f",
   "metadata": {},
   "outputs": [],
   "source": [
    "#Q.3\n",
    "#what is iterator function in python ? name the method used to initalise the iterator abject and the method used for iteration? \n",
    "#use this method to print the first five elements of the given list[2,4,6,8,10,12,14,16,18,20]\n"
   ]
  },
  {
   "cell_type": "code",
   "execution_count": 13,
   "id": "ce1cda26",
   "metadata": {},
   "outputs": [
    {
     "name": "stdout",
     "output_type": "stream",
     "text": [
      "2\n",
      "4\n",
      "6\n",
      "8\n",
      "10\n"
     ]
    }
   ],
   "source": [
    "\"\"\"Iterator function:= it is a type of data through in which we can go to its next tp next elements.\n",
    "   We iterate only iterable objct which can be iterable\"\"\"\n",
    "\n",
    "l=[2,4,6,8,10,12,14,16,18,20]\n",
    "numbers=iter(l)\n",
    "# initalizing for loop for iterating first 5 elements in a loop\n",
    "for i in range(5):\n",
    "    print(next(numbers))\n",
    "\n"
   ]
  },
  {
   "cell_type": "code",
   "execution_count": null,
   "id": "9c54693b",
   "metadata": {},
   "outputs": [],
   "source": [
    "#Q4 What is generator function? what is the use of yield keyword? give an example of generator function\n",
    "'''= Generator function is function that generates values next to next in sequence and continusly manner. it take less memory block \n",
    ". Yield keyword is used to make any function , generator function . it works like return , yield return value sequencly automaticaly'''\n",
    "\n",
    "# Example of generator function\n",
    "def count_test(n):\n",
    "    count = 1 \n",
    "    while count <= n :\n",
    "        yield counts\n",
    "        count = count + 1\n",
    "c= count_test(5)\n",
    "for i in c:\n",
    "    print(i)\n"
   ]
  },
  {
   "cell_type": "code",
   "execution_count": 14,
   "id": "8ec632c6",
   "metadata": {},
   "outputs": [
    {
     "name": "stdout",
     "output_type": "stream",
     "text": [
      "2\n",
      "3\n",
      "5\n",
      "7\n",
      "11\n",
      "13\n",
      "17\n",
      "19\n",
      "23\n",
      "29\n",
      "31\n",
      "37\n",
      "41\n",
      "43\n",
      "47\n",
      "53\n",
      "59\n",
      "61\n",
      "67\n",
      "71\n"
     ]
    }
   ],
   "source": [
    "#Q5.CREATE A GENERATOR FUNCTION FOR PRINT NUMBERS LESS THAN 1000. USE THE NEXT() METHOD TO PRINT THE FIRST 20 PRIME NUMBERS\n",
    "def prime_no():\n",
    "    for i in range(1,1000):\n",
    "        if i>1:\n",
    "            for j in range(2,i):\n",
    "                if(i % j)==0:\n",
    "                    break\n",
    "            else:\n",
    "                yield i\n",
    "n=prime_no()\n",
    "num=iter(n)\n",
    "for i in range(20):\n",
    "    print(next(n))"
   ]
  },
  {
   "cell_type": "code",
   "execution_count": null,
   "id": "cb0f48d6",
   "metadata": {},
   "outputs": [],
   "source": [
    "#Q6. Write a python program  to print the first 10 fibonacci number using while loop\n",
    "i = 0\n",
    "a,b=0,1\n",
    "           \n",
    "# Find & Displaying\n",
    "while(i <20):\n",
    "    if(i <= 1):\n",
    "        c= i\n",
    "    else:\n",
    "        print(c)\n",
    "        c = a+b\n",
    "        a = b\n",
    "        b = c\n",
    "    i = i + 1\n",
    "    "
   ]
  },
  {
   "cell_type": "code",
   "execution_count": 3,
   "id": "4d154ab7",
   "metadata": {},
   "outputs": [
    {
     "data": {
      "text/plain": [
       "['p', 'w', 's', 'k', 'i', 'l', 'l', 's']"
      ]
     },
     "execution_count": 3,
     "metadata": {},
     "output_type": "execute_result"
    }
   ],
   "source": [
    "#Q7. Write a list comprehension to iterate through the given string :'pwskills'\n",
    "# expected output: ['p','w','s','k','i','l','l','s']\n",
    "st='pwskills'\n",
    "[str(i) for i in st]"
   ]
  },
  {
   "cell_type": "code",
   "execution_count": 7,
   "id": "2eb84517",
   "metadata": {},
   "outputs": [
    {
     "name": "stdout",
     "output_type": "stream",
     "text": [
      "Enter a value:1221\n",
      "This value is not a palindrome number!\n"
     ]
    }
   ],
   "source": [
    "#write a python program to check whether a given number is palindrome or not using a while loop\n",
    "num = int(input(\"Enter a value:\"))  \n",
    "n = num  \n",
    "i= 0  \n",
    "while(num > 0):  \n",
    "    dig = num % 10  \n",
    "    revrev= i * 10 + dig  \n",
    "    num= num // 10  \n",
    "if(n == i):  \n",
    "    print(\"This value is a palindrome number!\")  \n",
    "else:  \n",
    "    print(\"This value is not a palindrome number!\") "
   ]
  },
  {
   "cell_type": "code",
   "execution_count": 3,
   "id": "eefe3042",
   "metadata": {},
   "outputs": [
    {
     "name": "stdout",
     "output_type": "stream",
     "text": [
      "Enter number for checking palindrome=101\n",
      "palindrome number\n"
     ]
    }
   ],
   "source": [
    "n=int(input(\"Enter number for checking palindrome=\"))\n",
    "num=n\n",
    "i=0\n",
    "while num>0:\n",
    "    r=num%10\n",
    "    i=i*10+r\n",
    "    num=num//10\n",
    "if(i==n):\n",
    "    print(\"palindrome number\")\n",
    "else:\n",
    "    print(\"not palindrome\")\n",
    "    "
   ]
  },
  {
   "cell_type": "code",
   "execution_count": 8,
   "id": "14162f27",
   "metadata": {},
   "outputs": [
    {
     "data": {
      "text/plain": [
       "[1,\n",
       " 3,\n",
       " 5,\n",
       " 7,\n",
       " 9,\n",
       " 11,\n",
       " 13,\n",
       " 15,\n",
       " 17,\n",
       " 19,\n",
       " 21,\n",
       " 23,\n",
       " 25,\n",
       " 27,\n",
       " 29,\n",
       " 31,\n",
       " 33,\n",
       " 35,\n",
       " 37,\n",
       " 39,\n",
       " 41,\n",
       " 43,\n",
       " 45,\n",
       " 47,\n",
       " 49,\n",
       " 51,\n",
       " 53,\n",
       " 55,\n",
       " 57,\n",
       " 59,\n",
       " 61,\n",
       " 63,\n",
       " 65,\n",
       " 67,\n",
       " 69,\n",
       " 71,\n",
       " 73,\n",
       " 75,\n",
       " 77,\n",
       " 79,\n",
       " 81,\n",
       " 83,\n",
       " 85,\n",
       " 87,\n",
       " 89,\n",
       " 91,\n",
       " 93,\n",
       " 95,\n",
       " 97,\n",
       " 99]"
      ]
     },
     "execution_count": 8,
     "metadata": {},
     "output_type": "execute_result"
    }
   ],
   "source": [
    "#Q9. Write a code to print odd numbers from 1 to 100 using list comprehension.\n",
    "n=range(1,100)\n",
    "[i for i in n if i%2!=0]"
   ]
  },
  {
   "cell_type": "code",
   "execution_count": null,
   "id": "57022773",
   "metadata": {},
   "outputs": [],
   "source": []
  }
 ],
 "metadata": {
  "kernelspec": {
   "display_name": "Python 3 (ipykernel)",
   "language": "python",
   "name": "python3"
  },
  "language_info": {
   "codemirror_mode": {
    "name": "ipython",
    "version": 3
   },
   "file_extension": ".py",
   "mimetype": "text/x-python",
   "name": "python",
   "nbconvert_exporter": "python",
   "pygments_lexer": "ipython3",
   "version": "3.10.6"
  }
 },
 "nbformat": 4,
 "nbformat_minor": 5
}
