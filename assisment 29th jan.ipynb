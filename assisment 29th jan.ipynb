{
 "cells": [
  {
   "cell_type": "raw",
   "id": "6dce73d7",
   "metadata": {},
   "source": [
    "1.guido van rossum\n",
    "2.object oriented and structure programming\n",
    "3.yes\n",
    "4..py\n",
    "5.interpreted\n",
    "6.print/a=10,b=\"raj\"\n",
    "7.#\n",
    "8.version python in cmd or simply we write python on cmd we get it\n",
    "9.lambda\n",
    "10.basically pip is the preferred installer program that help to install any library of the python and its a dependencey for install everything in python.\n",
    "11.len(),print(),etc.\n",
    "12.about 10\n",
    "13.there are following benifits of python\n",
    "a.python is open source code language\n",
    "b.by the python the code is limitless..\n",
    "c.there have lots of library.\n",
    "d.for bignner its very simple language.\n",
    "14.they allocated the memory at run time and in case when same var.name is found then it overwite the latest data from the oldest data. and for int its take 2byts for char 1 byte for float 4 bytes.\n",
    "15.we simply install by the setup and give them the environment path variable.\n",
    "16.no."
   ]
  },
  {
   "cell_type": "code",
   "execution_count": null,
   "id": "64f22006",
   "metadata": {},
   "outputs": [],
   "source": []
  },
  {
   "cell_type": "code",
   "execution_count": null,
   "id": "4734d961",
   "metadata": {},
   "outputs": [],
   "source": []
  }
 ],
 "metadata": {
  "kernelspec": {
   "display_name": "Python 3 (ipykernel)",
   "language": "python",
   "name": "python3"
  },
  "language_info": {
   "codemirror_mode": {
    "name": "ipython",
    "version": 3
   },
   "file_extension": ".py",
   "mimetype": "text/x-python",
   "name": "python",
   "nbconvert_exporter": "python",
   "pygments_lexer": "ipython3",
   "version": "3.9.6"
  }
 },
 "nbformat": 4,
 "nbformat_minor": 5
}
